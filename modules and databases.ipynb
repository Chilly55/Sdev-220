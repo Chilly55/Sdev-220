{
 "cells": [
  {
   "cell_type": "code",
   "execution_count": 3,
   "metadata": {},
   "outputs": [
    {
     "name": "stdout",
     "output_type": "stream",
     "text": [
      "Open 9-5 daily\n"
     ]
    }
   ],
   "source": [
    "#11.1\n",
    "import zoo\n",
    "zoo.hours() "
   ]
  },
  {
   "cell_type": "code",
   "execution_count": 4,
   "metadata": {},
   "outputs": [
    {
     "name": "stdout",
     "output_type": "stream",
     "text": [
      "Open 9-5 daily\n"
     ]
    }
   ],
   "source": [
    "#11.2\n",
    "import zoo as menagerie\n",
    "menagerie.hours() "
   ]
  },
  {
   "cell_type": "code",
   "execution_count": 3,
   "metadata": {},
   "outputs": [],
   "source": [
    "with open('books.csv', 'w') as file:\n",
    "    file.write('author,book\\n')\n",
    "    file.write('J R R Tolkien,The Hobbit\\n')\n",
    "    file.write('Lynne Truss,\"Eats, Shoots & Leaves\"\\n')"
   ]
  },
  {
   "cell_type": "code",
   "execution_count": 9,
   "metadata": {},
   "outputs": [],
   "source": [
    "# Import the csv module\n",
    "import csv\n",
    "\n",
    "# Open the file in write mode\n",
    "with open('books2.csv', 'w', newline='') as file:\n",
    "\n",
    "    writer = csv.writer(file)\n",
    " \n",
    "    writer.writerow(['title', 'author', 'year'])\n",
    "  \n",
    "    writer.writerow(['The Weirdstone of Brisingamen', 'Alan Garner', '1960'])\n",
    "    writer.writerow(['Perdido Street Station', 'China Miéville', '2000'])\n",
    "    writer.writerow(['Thud!', 'Terry Pratchett', '2005'])\n",
    "    writer.writerow(['The Spellman Files', 'Lisa Lutz', '2007'])\n",
    "    writer.writerow(['Small Gods', 'Terry Pratchett', '1992'])"
   ]
  },
  {
   "cell_type": "code",
   "execution_count": 10,
   "metadata": {},
   "outputs": [
    {
     "ename": "ModuleNotFoundError",
     "evalue": "No module named 'sqlalchemy'",
     "output_type": "error",
     "traceback": [
      "\u001b[1;31m---------------------------------------------------------------------------\u001b[0m",
      "\u001b[1;31mModuleNotFoundError\u001b[0m                       Traceback (most recent call last)",
      "\u001b[1;32mc:\\Users\\angel\\OneDrive\\Desktop\\Sdev-220\\modules and databases.ipynb Cell 5\u001b[0m line \u001b[0;36m2\n\u001b[0;32m      <a href='vscode-notebook-cell:/c%3A/Users/angel/OneDrive/Desktop/Sdev-220/modules%20and%20databases.ipynb#W2sZmlsZQ%3D%3D?line=0'>1</a>\u001b[0m \u001b[39m#16.8 \u001b[39;00m\n\u001b[1;32m----> <a href='vscode-notebook-cell:/c%3A/Users/angel/OneDrive/Desktop/Sdev-220/modules%20and%20databases.ipynb#W2sZmlsZQ%3D%3D?line=1'>2</a>\u001b[0m \u001b[39mfrom\u001b[39;00m \u001b[39msqlalchemy\u001b[39;00m \u001b[39mimport\u001b[39;00m create_engine, MetaData, Table\n\u001b[0;32m      <a href='vscode-notebook-cell:/c%3A/Users/angel/OneDrive/Desktop/Sdev-220/modules%20and%20databases.ipynb#W2sZmlsZQ%3D%3D?line=2'>3</a>\u001b[0m \u001b[39mfrom\u001b[39;00m \u001b[39msqlalchemy\u001b[39;00m\u001b[39m.\u001b[39;00m\u001b[39morm\u001b[39;00m \u001b[39mimport\u001b[39;00m sessionmaker\n\u001b[0;32m      <a href='vscode-notebook-cell:/c%3A/Users/angel/OneDrive/Desktop/Sdev-220/modules%20and%20databases.ipynb#W2sZmlsZQ%3D%3D?line=4'>5</a>\u001b[0m engine \u001b[39m=\u001b[39m create_engine(\u001b[39m'\u001b[39m\u001b[39msqlite:///books.db\u001b[39m\u001b[39m'\u001b[39m)\n",
      "\u001b[1;31mModuleNotFoundError\u001b[0m: No module named 'sqlalchemy'"
     ]
    }
   ],
   "source": [
    "#16.8 \n",
    "from sqlalchemy import create_engine, MetaData, Table\n",
    "from sqlalchemy.orm import sessionmaker\n",
    "\n",
    "engine = create_engine('sqlite:///books.db')\n",
    "conn = engine.connect()\n",
    "metadata = MetaData()\n",
    "book = Table('book', metadata, autoload=True, autoload_with=engine)\n",
    "\n",
    "Session = sessionmaker(bind=engine)\n",
    "session = Session()\n",
    "\n",
    "query = session.query(book.columns.title).order_by(book.columns.title)\n",
    "\n",
    "for title in query:\n",
    "    print(title)\n",
    "\n",
    "session.close()\n",
    "\n"
   ]
  }
 ],
 "metadata": {
  "kernelspec": {
   "display_name": "Python 3",
   "language": "python",
   "name": "python3"
  },
  "language_info": {
   "codemirror_mode": {
    "name": "ipython",
    "version": 3
   },
   "file_extension": ".py",
   "mimetype": "text/x-python",
   "name": "python",
   "nbconvert_exporter": "python",
   "pygments_lexer": "ipython3",
   "version": "3.10.11"
  },
  "orig_nbformat": 4
 },
 "nbformat": 4,
 "nbformat_minor": 2
}
